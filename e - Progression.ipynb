{
 "cells": [
  {
   "cell_type": "markdown",
   "metadata": {},
   "source": [
    "# Progression ISN"
   ]
  },
  {
   "cell_type": "markdown",
   "metadata": {},
   "source": [
    "1 Semaine présentation + Trombi + Gmail"
   ]
  },
  {
   "cell_type": "markdown",
   "metadata": {},
   "source": [
    "1 Outils (Python, Jupyter, autres)"
   ]
  },
  {
   "cell_type": "markdown",
   "metadata": {},
   "source": [
    "14 Semaines : 7 Chapitres 4 semaines par chapitre. (2 semaines + 2semaines)\n",
    "- 2 Semaines : (Chap 7) [La photographie numérique](7%20-%20La%20photographie%20nume%CC%81rique.ipynb)\n",
    "- 2 Semaines : (Chap 5) Localisation, cartographie et mobilité\n",
    "- 2 Semaines : (Chap 2) Le web\n",
    "- 2 Semaines : (Chap 3) Les réseaux sociaux\n",
    "- 2 Semaines : (Chap 4) Les données structurées et leur traitement\n",
    "- 2 Semaines : (Chap 1) Internet\n",
    "- 2 Semaines : (Chap 6) Informatique embarquée et objets connectés\n"
   ]
  },
  {
   "cell_type": "markdown",
   "metadata": {},
   "source": [
    "1 Semaine : Sortie Palais de la découverte"
   ]
  },
  {
   "cell_type": "markdown",
   "metadata": {},
   "source": [
    "14 Semaines : 7 Chapitres 4 semaines par chapitre. (2 semaines + 2semaines)\n",
    "- 2 Semaines : (Chap 7) La photographie numérique\n",
    "- 2 Semaines : (Chap 5) Localisation, cartographie et mobilité\n",
    "- 2 Semaines : (Chap 2) Le web\n",
    "- 2 Semaines : (Chap 3) Les réseaux sociaux\n",
    "- 2 Semaines : (Chap 4) Les données structurées et leur traitement\n",
    "- 2 Semaines : (Chap 1) Internet\n",
    "- 2 Semaines : (Chap 6) Informatique embarquée et objets connectés\n"
   ]
  },
  {
   "cell_type": "code",
   "execution_count": null,
   "metadata": {},
   "outputs": [],
   "source": []
  }
 ],
 "metadata": {
  "kernelspec": {
   "display_name": "Python 3",
   "language": "python",
   "name": "python3"
  },
  "language_info": {
   "codemirror_mode": {
    "name": "ipython",
    "version": 3
   },
   "file_extension": ".py",
   "mimetype": "text/x-python",
   "name": "python",
   "nbconvert_exporter": "python",
   "pygments_lexer": "ipython3",
   "version": "3.7.1"
  }
 },
 "nbformat": 4,
 "nbformat_minor": 2
}
