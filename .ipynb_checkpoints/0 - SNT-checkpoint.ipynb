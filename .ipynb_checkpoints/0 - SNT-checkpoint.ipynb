{
 "cells": [
  {
   "cell_type": "markdown",
   "metadata": {},
   "source": [
    "## 0. SNT"
   ]
  },
  {
   "cell_type": "markdown",
   "metadata": {},
   "source": [
    "# Sciences numériques et technologie Classe de seconde, enseignement commun"
   ]
  },
  {
   "cell_type": "markdown",
   "metadata": {},
   "source": [
    "## [Programme de SNT](http://cache.media.education.gouv.fr/file/CSP/41/0/2de_Sciences_numeriques_et_technologie_Ens-commun_1025410.pdf)"
   ]
  },
  {
   "cell_type": "markdown",
   "metadata": {},
   "source": [
    "Le programme de SNT s'articule en 7 parties (4 semaines par parties) qui intègrent une dimension transversalle : l'histoire"
   ]
  },
  {
   "cell_type": "markdown",
   "metadata": {},
   "source": [
    "1 - [Internet](http://cache.media.education.gouv.fr/file/CSP/41/0/2de_Sciences_numeriques_et_technologie_Ens-commun_1025410.pdf#%5B%7B%22num%22%3A21%2C%22gen%22%3A0%7D%2C%7B%22name%22%3A%22XYZ%22%7D%2C68%2C718%2C0%5D)"
   ]
  },
  {
   "cell_type": "markdown",
   "metadata": {},
   "source": [
    "- Introduction\n",
    "- Repères historiques\n",
    "- Le protocole TCP/IP\n",
    "- Les données et l’information\n",
    "- Les algorithmes et les programmes\n",
    "- Les machines\n",
    "- Impacts sur les pratiques humaines"
   ]
  },
  {
   "cell_type": "markdown",
   "metadata": {},
   "source": [
    "2 - [Le WEB](http://cache.media.education.gouv.fr/file/CSP/41/0/2de_Sciences_numeriques_et_technologie_Ens-commun_1025410.pdf#%5B%7B%22num%22%3A32%2C%22gen%22%3A0%7D%2C%7B%22name%22%3A%22XYZ%22%7D%2C68%2C450%2C0%5D)"
   ]
  },
  {
   "cell_type": "markdown",
   "metadata": {},
   "source": [
    "- Introduction\n",
    "- Repères historiques\n",
    "- Normalisation de la présentation de l’information\n",
    "- Moteurs de recherche\n",
    "- Interaction client/serveur\n",
    "- Sécurité et confidentialité\n",
    "- Impacts sur les pratiques humaines"
   ]
  },
  {
   "cell_type": "markdown",
   "metadata": {},
   "source": [
    "3 - [Les réseaux sociaux](http://cache.media.education.gouv.fr/file/CSP/41/0/2de_Sciences_numeriques_et_technologie_Ens-commun_1025410.pdf#%5B%7B%22num%22%3A36%2C%22gen%22%3A0%7D%2C%7B%22name%22%3A%22XYZ%22%7D%2C68%2C503%2C0%5D)"
   ]
  },
  {
   "cell_type": "markdown",
   "metadata": {},
   "source": [
    "- Introduction\n",
    "- Repères historiques\n",
    "- Les données et l’information\n",
    "- Les algorithmes et les programmes\n",
    "- Impacts sur les pratiques humaines"
   ]
  },
  {
   "cell_type": "markdown",
   "metadata": {},
   "source": [
    "4 - [Les données structurées et leur traitements](http://cache.media.education.gouv.fr/file/CSP/41/0/2de_Sciences_numeriques_et_technologie_Ens-commun_1025410.pdf#%5B%7B%22num%22%3A39%2C%22gen%22%3A0%7D%2C%7B%22name%22%3A%22XYZ%22%7D%2C68%2C321%2C0%5D)"
   ]
  },
  {
   "cell_type": "markdown",
   "metadata": {},
   "source": [
    "- Introduction\n",
    "- Repères historiques\n",
    "- Les données et l’information\n",
    "- Les algorithmes et les programmes\n",
    "- Les machines\n",
    "- Impacts sur les pratiques humaines"
   ]
  },
  {
   "cell_type": "markdown",
   "metadata": {},
   "source": [
    "5 - [Localisation, cartographie et mobilité](http://cache.media.education.gouv.fr/file/CSP/41/0/2de_Sciences_numeriques_et_technologie_Ens-commun_1025410.pdf#%5B%7B%22num%22%3A43%2C%22gen%22%3A0%7D%2C%7B%22name%22%3A%22XYZ%22%7D%2C68%2C411%2C0%5D)"
   ]
  },
  {
   "cell_type": "markdown",
   "metadata": {},
   "source": [
    "- Introduction\n",
    "- Repères historiques\n",
    "- Les données et l’information\n",
    "- Les algorithmes et les programmes\n",
    "- Les machines\n",
    "- Impacts sur les pratiques humaines"
   ]
  },
  {
   "cell_type": "markdown",
   "metadata": {},
   "source": [
    "6 - [Informatique embarquée et objets connectés](http://cache.media.education.gouv.fr/file/CSP/41/0/2de_Sciences_numeriques_et_technologie_Ens-commun_1025410.pdf#%5B%7B%22num%22%3A46%2C%22gen%22%3A0%7D%2C%7B%22name%22%3A%22XYZ%22%7D%2C68%2C253%2C0%5D)"
   ]
  },
  {
   "cell_type": "markdown",
   "metadata": {},
   "source": [
    "- Introduction\n",
    "- Repères historiques\n",
    "- Les données et l’information\n",
    "- Les algorithmes et les programmes\n",
    "- Les machines\n",
    "- Impacts sur les pratiques humaines"
   ]
  },
  {
   "cell_type": "markdown",
   "metadata": {},
   "source": [
    "7 - [La photographie numérique](http://cache.media.education.gouv.fr/file/CSP/41/0/2de_Sciences_numeriques_et_technologie_Ens-commun_1025410.pdf#%5B%7B%22num%22%3A50%2C%22gen%22%3A0%7D%2C%7B%22name%22%3A%22XYZ%22%7D%2C68%2C799%2C0%5D)"
   ]
  },
  {
   "cell_type": "markdown",
   "metadata": {},
   "source": [
    "- Introduction\n",
    "- Repères historiques\n",
    "- Les données et l’information\n",
    "- Les algorithmes et les programmes\n",
    "- Les machines\n",
    "- Impacts sur les pratiques humaines"
   ]
  },
  {
   "cell_type": "code",
   "execution_count": null,
   "metadata": {},
   "outputs": [],
   "source": []
  }
 ],
 "metadata": {
  "kernelspec": {
   "display_name": "Python 3",
   "language": "python",
   "name": "python3"
  },
  "language_info": {
   "codemirror_mode": {
    "name": "ipython",
    "version": 3
   },
   "file_extension": ".py",
   "mimetype": "text/x-python",
   "name": "python",
   "nbconvert_exporter": "python",
   "pygments_lexer": "ipython3",
   "version": "3.7.1"
  }
 },
 "nbformat": 4,
 "nbformat_minor": 2
}
