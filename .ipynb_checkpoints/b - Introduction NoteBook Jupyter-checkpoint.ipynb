{
 "cells": [
  {
   "cell_type": "markdown",
   "metadata": {},
   "source": [
    "# Introduction aux NoteBook Jupyter"
   ]
  },
  {
   "cell_type": "markdown",
   "metadata": {},
   "source": [
    "Au cours de cette année nous allons essayer de travailler avec les NoteBook Jupyter ... Qu'est ce que c'est ?"
   ]
  },
  {
   "cell_type": "markdown",
   "metadata": {},
   "source": [
    "Jupyter est un outil web de développement interractif.\n",
    "L'ensemble du document est constitué de différents blocks appelés cellules.\n",
    "Ces cellules peuvent contenir :\n",
    "- Du texte brut\n",
    "- Du texte mis en forme\n",
    "- Du code :\n",
    "    - Python 3\n",
    "    - HTML\n",
    "Et le résultat de ce code va pouvoir être affiché à l'écran.    \n"
   ]
  },
  {
   "cell_type": "markdown",
   "metadata": {},
   "source": [
    "## Essayer Jupyter :"
   ]
  },
  {
   "cell_type": "markdown",
   "metadata": {},
   "source": [
    "Le site de Jupyter : [try jupyter](https://jupyter.org/try)"
   ]
  },
  {
   "cell_type": "markdown",
   "metadata": {},
   "source": [
    "## Utiliser Jupyter :"
   ]
  },
  {
   "cell_type": "markdown",
   "metadata": {},
   "source": [
    "Avec [Binder](https://mybinder.org) : chacun peut travailler sur sa propre version du document Jupyter (.ipynb)"
   ]
  },
  {
   "cell_type": "markdown",
   "metadata": {},
   "source": [
    "## Installer Jupyter :"
   ]
  },
  {
   "cell_type": "markdown",
   "metadata": {},
   "source": [
    "Sur son propre ordinateur pour faire ses propres notebook, avec la distribution [Anaconda](https://www.anaconda.com/distribution/) qui contient Jupyter, mais aussi Python et de nombreux autres programmes."
   ]
  },
  {
   "cell_type": "code",
   "execution_count": null,
   "metadata": {},
   "outputs": [],
   "source": []
  }
 ],
 "metadata": {
  "kernelspec": {
   "display_name": "Python 3",
   "language": "python",
   "name": "python3"
  },
  "language_info": {
   "codemirror_mode": {
    "name": "ipython",
    "version": 3
   },
   "file_extension": ".py",
   "mimetype": "text/x-python",
   "name": "python",
   "nbconvert_exporter": "python",
   "pygments_lexer": "ipython3",
   "version": "3.7.1"
  }
 },
 "nbformat": 4,
 "nbformat_minor": 2
}
